{
 "cells": [
  {
   "cell_type": "code",
   "execution_count": 54,
   "id": "c5bb7d2e",
   "metadata": {},
   "outputs": [],
   "source": [
    "import io\n",
    "import re\n",
    "import tkinter as tk\n",
    "from tkinter import filedialog\n",
    "from datetime import datetime\n",
    "import networkx as nx\n",
    "import matplotlib.pyplot as plt\n",
    "import numpy as np"
   ]
  },
  {
   "cell_type": "code",
   "execution_count": 55,
   "id": "3007d3f3",
   "metadata": {},
   "outputs": [],
   "source": [
    "flower_graph = {1: [2, 6],\n",
    "            2: [1, 3],\n",
    "            3: [2, 4, 7],\n",
    "            4: [3, 5],\n",
    "            5: [4, 8],\n",
    "            6: [1, 9, 17],\n",
    "            7: [3, 9, 10],\n",
    "            8: [5, 10, 11],\n",
    "            9: [6, 7, 12],\n",
    "            10: [7, 8, 13],\n",
    "            11: [8, 14],\n",
    "            12: [9, 15, 19],\n",
    "            13: [10, 15, 16],\n",
    "            14: [11, 16],\n",
    "            15: [12, 13, 22],\n",
    "            16: [13, 14, 24],\n",
    "            17: [6, 18],\n",
    "            18: [17, 19],\n",
    "            19: [12, 18, 20],\n",
    "            20: [19, 21],\n",
    "            21: [20, 22],\n",
    "            22: [15, 21, 23],\n",
    "            23: [22, 24],\n",
    "            24: [16, 23]}"
   ]
  },
  {
   "cell_type": "code",
   "execution_count": 56,
   "id": "03b8e26b",
   "metadata": {},
   "outputs": [],
   "source": [
    "node_pos = {\n",
    "        1: (0, 5), 2: (1, 6), 3: (2, 5), 4: (3, 6), 5: (4, 5),\n",
    "        6: (0, 4), 7: (2, 4), 8: (4, 4), 9: (1, 3), 10: (3, 3), 11: (5, 3),\n",
    "        12: (1, 2), 13: (3, 2), 14: (5, 2), 15: (2, 1), 16: (4, 1), 17: (-1, 3),\n",
    "        18: (-1, 2), 19: (0, 1), 20: (0, 0), 21: (1, -1), 22: (2, 0), 23: (3,-1), 24: (4,0)\n",
    "    }"
   ]
  },
  {
   "cell_type": "code",
   "execution_count": 57,
   "id": "f18d3669",
   "metadata": {},
   "outputs": [],
   "source": [
    "def hexagonal_lattice_layout(G):\n",
    "    layout = {}\n",
    "    \n",
    "    node_pos = {\n",
    "        1: (0, 5), 2: (1, 6), 3: (2, 5), 4: (3, 6), 5: (4, 5),\n",
    "        6: (0, 4), 7: (2, 4), 8: (4, 4), 9: (1, 3), 10: (3, 3), 11: (5, 3),\n",
    "        12: (1, 2), 13: (3, 2), 14: (5, 2), 15: (2, 1), 16: (4, 1), 17: (-1, 3),\n",
    "        18: (-1, 2), 19: (0, 1), 20: (0, 0), 21: (1, -1), 22: (2, 0), 23: (3,-1), 24: (4,0)\n",
    "    }\n",
    "    \n",
    "    for node in G.nodes:\n",
    "        layout[node] = node_pos[node]\n",
    "        \n",
    "    print(layout)\n",
    "    \n",
    "    return layout"
   ]
  },
  {
   "cell_type": "code",
   "execution_count": 58,
   "id": "0d46a563",
   "metadata": {},
   "outputs": [],
   "source": [
    "def maze_graph():\n",
    "    \n",
    "    flower_graph = {1: [2, 6],\n",
    "            2: [1, 3],\n",
    "            3: [2, 4, 7],\n",
    "            4: [3, 5],\n",
    "            5: [4, 8],\n",
    "            6: [1, 9, 17],\n",
    "            7: [3, 9, 10],\n",
    "            8: [5, 10, 11],\n",
    "            9: [6, 7, 12],\n",
    "            10: [7, 8, 13],\n",
    "            11: [8, 14],\n",
    "            12: [9, 15, 19],\n",
    "            13: [10, 15, 16],\n",
    "            14: [11, 16],\n",
    "            15: [12, 13, 22],\n",
    "            16: [13, 14, 24],\n",
    "            17: [6, 18],\n",
    "            18: [17, 19],\n",
    "            19: [12, 18, 20],\n",
    "            20: [19, 21],\n",
    "            21: [20, 22],\n",
    "            22: [15, 21, 23],\n",
    "            23: [22, 24],\n",
    "            24: [16, 23]}\n",
    "\n",
    "    # Create a graph from the dictionary\n",
    "    G = nx.Graph(flower_graph)\n",
    "    pos = hexagonal_lattice_layout(G)\n",
    "\n",
    "    return G, pos"
   ]
  },
  {
   "cell_type": "code",
   "execution_count": 59,
   "id": "c8b518e0",
   "metadata": {},
   "outputs": [],
   "source": [
    "def path_graph(inputfile):\n",
    "    '''\n",
    "    Description: Generates Path Graph based on original path the mouse takes\n",
    "    \n",
    "    Returns: Two lists which contain graph info and node info\n",
    "    '''\n",
    "    with open(inputfile) as file:\n",
    "        lines = file.read().splitlines(keepends = False)\n",
    "        for line in lines:\n",
    "            if \"Trial 6:\" in line:\n",
    "                path = line.split(': ')[1]\n",
    "                print(path)\n",
    "                pg = nx.DiGraph()\n",
    "                nl = []\n",
    "                for node in path.split(','):\n",
    "                    print(node)\n",
    "                    pg.add_node(int(node))\n",
    "                    nl.append(int(node))\n",
    "                    for num, edge_points in enumerate(nl):\n",
    "                        if num:\n",
    "                            pg.add_edge(nl[num - 1], nl[num])\n",
    "            \n",
    "    return pg, nl\n"
   ]
  },
  {
   "cell_type": "code",
   "execution_count": 60,
   "id": "562228dc",
   "metadata": {},
   "outputs": [
    {
     "name": "stdout",
     "output_type": "stream",
     "text": [
      "{1: (0, 5), 2: (1, 6), 3: (2, 5), 4: (3, 6), 5: (4, 5), 6: (0, 4), 7: (2, 4), 8: (4, 4), 9: (1, 3), 10: (3, 3), 11: (5, 3), 12: (1, 2), 13: (3, 2), 14: (5, 2), 15: (2, 1), 16: (4, 1), 17: (-1, 3), 18: (-1, 2), 19: (0, 1), 20: (0, 0), 21: (1, -1), 22: (2, 0), 23: (3, -1), 24: (4, 0)}\n"
     ]
    }
   ],
   "source": [
    "G, pos = maze_graph()"
   ]
  },
  {
   "cell_type": "code",
   "execution_count": 61,
   "id": "4dad5c07",
   "metadata": {},
   "outputs": [
    {
     "name": "stdout",
     "output_type": "stream",
     "text": [
      "5,4,3,2,1,6,17,18,19,20,21\n",
      "5\n",
      "4\n",
      "3\n",
      "2\n",
      "1\n",
      "6\n",
      "17\n",
      "18\n",
      "19\n",
      "20\n",
      "21\n"
     ]
    }
   ],
   "source": [
    "H, nl = path_graph('nodetest.txt')"
   ]
  },
  {
   "cell_type": "code",
   "execution_count": 62,
   "id": "33be4aee",
   "metadata": {},
   "outputs": [
    {
     "data": {
      "image/png": "[encoded data removed]",
      "text/plain": [
       "<Figure size 500x500 with 1 Axes>"
      ]
     },
     "metadata": {},
     "output_type": "display_data"
    }
   ],
   "source": [
    "plt.figure(figsize=(5, 5))\n",
    "nx.draw_networkx_nodes(G, pos)\n",
    "nx.draw_networkx_edges(G, pos, width=1)\n",
    "node_labels = {node: node for node in G.nodes()}\n",
    "nx.draw_networkx_labels(G, pos, labels=node_labels, font_size=12, font_color=\"white\", font_weight=\"bold\")\n",
    "\n",
    "\n",
    "nodelist = [int(node) for node in nl]\n",
    "\n",
    "nx.draw_networkx_nodes(H, pos, nodelist=nodelist)\n",
    "nx.draw_networkx_edges(H, pos, nodelist=nodelist, width = 3, edge_color = 'pink')\n",
    "nx.draw_networkx_nodes(H, pos, nodelist = [nl[0]], node_color = 'g')\n",
    "nx.draw_networkx_nodes(H, pos, nodelist = [nl[-1]], node_color = 'r')\n",
    "plt.show()"
   ]
  },
  {
   "cell_type": "code",
   "execution_count": null,
   "id": "9267415c",
   "metadata": {},
   "outputs": [],
   "source": []
  }
 ],
 "metadata": {
  "kernelspec": {
   "display_name": "Python [conda env:track]",
   "language": "python",
   "name": "conda-env-track-py"
  },
  "language_info": {
   "codemirror_mode": {
    "name": "ipython",
    "version": 3
   },
   "file_extension": ".py",
   "mimetype": "text/x-python",
   "name": "python",
   "nbconvert_exporter": "python",
   "pygments_lexer": "ipython3",
   "version": "3.10.4"
  }
 },
 "nbformat": 4,
 "nbformat_minor": 5
}
